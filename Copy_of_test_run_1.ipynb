{
  "nbformat": 4,
  "nbformat_minor": 0,
  "metadata": {
    "colab": {
      "name": "Copy of test run 1.ipynb",
      "provenance": [],
      "collapsed_sections": [],
      "authorship_tag": "ABX9TyNcNRb7pOQ7iRfAJmuvXH8H",
      "include_colab_link": true
    },
    "kernelspec": {
      "name": "python3",
      "display_name": "Python 3"
    }
  },
  "cells": [
    {
      "cell_type": "markdown",
      "metadata": {
        "id": "view-in-github",
        "colab_type": "text"
      },
      "source": [
        "<a href=\"https://colab.research.google.com/github/OlaNosa/HMM2ndOrder/blob/master/Copy_of_test_run_1.ipynb\" target=\"_parent\"><img src=\"https://colab.research.google.com/assets/colab-badge.svg\" alt=\"Open In Colab\"/></a>"
      ]
    },
    {
      "cell_type": "markdown",
      "metadata": {
        "id": "2JeWqtPxMsQk"
      },
      "source": [
        "import tensorflow as tf\r\n",
        "import tensorflow_probability as tfp"
      ]
    },
    {
      "cell_type": "code",
      "metadata": {
        "id": "wPXGElGPRjL2"
      },
      "source": [
        "import tensorflow as tf\r\n",
        "import tensorflow_probability as tfp\r\n",
        "import numpy as np"
      ],
      "execution_count": 2,
      "outputs": []
    },
    {
      "cell_type": "code",
      "metadata": {
        "id": "iZvyAQROZ7uZ"
      },
      "source": [
        "tfd = tfp.distributions"
      ],
      "execution_count": 12,
      "outputs": []
    },
    {
      "cell_type": "code",
      "metadata": {
        "id": "7MCh8MBiRjdy"
      },
      "source": [
        "data = np.load('processed_data.npy', allow_pickle=True)\r\n"
      ],
      "execution_count": 4,
      "outputs": []
    },
    {
      "cell_type": "code",
      "metadata": {
        "id": "zr5hPBYrZxIq"
      },
      "source": [
        "def mymodel(obs):\r\n",
        "\r\n",
        "  # A simple weather model.\r\n",
        "\r\n",
        "  # Represent a cold day with 0 and a hot day with 1.\r\n",
        "  # Suppose the first day of a sequence has a 0.8 chance of being cold.\r\n",
        "\r\n",
        "  initial_distribution = tfd.Categorical(probs=[0.8, 0.2])\r\n",
        "\r\n",
        "  # Suppose a cold day has a 30% chance of being followed by a hot day\r\n",
        "  # and a hot day has a 20% chance of being followed by a cold day.\r\n",
        "\r\n",
        "  transition_distribution = tfd.Categorical(probs=[[0.5, 0.5],\r\n",
        "                                                  [0.51, 0.49]])\r\n",
        "\r\n",
        "  # Suppose additionally that on each day the temperature is\r\n",
        "  # normally distributed with mean and standard deviation 0 and 5 on\r\n",
        "  # a cold day and mean and standard deviation 15 and 10 on a hot day.\r\n",
        "\r\n",
        "  observation_distribution = tfd.Categorical(probs=[[0.25, 0.25, 0.25, 0.25],\r\n",
        "                                                    [0.25, 0.25, 0.25, 0.25]])\r\n",
        "\r\n",
        "  # This gives the hidden Markov model:\r\n",
        "\r\n",
        "  model = tfd.HiddenMarkovModel(\r\n",
        "      initial_distribution=initial_distribution,\r\n",
        "      transition_distribution=transition_distribution,\r\n",
        "      observation_distribution=observation_distribution,\r\n",
        "      num_steps=len(obs))\r\n",
        "\r\n",
        "  # We can now compute the most probable sequence of hidden states:\r\n",
        "\r\n",
        "  return np.array(model.posterior_mode(obs))\r\n",
        "\r\n",
        "  # The result is [0 0 0 0 0 1 1] telling us that the transition\r\n",
        "  # from \"cold\" to \"hot\" most likely happened between the\r\n",
        "  # 5th and 6th days.\r\n"
      ],
      "execution_count": 16,
      "outputs": []
    },
    {
      "cell_type": "code",
      "metadata": {
        "id": "Cq5sST3IZxUi"
      },
      "source": [
        ""
      ],
      "execution_count": null,
      "outputs": []
    },
    {
      "cell_type": "code",
      "metadata": {
        "colab": {
          "base_uri": "https://localhost:8080/"
        },
        "id": "W39-4kMPRjs3",
        "outputId": "9f03e0ad-82e9-46c0-a417-e7e77ca63a66"
      },
      "source": [
        "#print(len(data))\r\n",
        "\r\n",
        "for ctfile in data:\r\n",
        "  print('len(ctfile)', len(ctfile))\r\n",
        "\r\n",
        "  nucleotides, hidden_states = ctfile\r\n",
        "\r\n",
        "  print('nucleotides', nucleotides)\r\n",
        "  nucleotides_dict = {'A': 0, 'C': 1, 'G': 2, 'U': 3}\r\n",
        "  print('hidden states', hidden_states)\r\n",
        "\r\n",
        "  obs = []\r\n",
        "  hid = []\r\n",
        "\r\n",
        "\r\n",
        "\r\n",
        "  for i in range(len(nucleotides)):\r\n",
        "    if nucleotides[i] != 'N':\r\n",
        "      obs.append(nucleotides_dict[nucleotides[i]])\r\n",
        "      hid.append(hidden_states[i])\r\n",
        "\r\n",
        "  print('obs ', obs)\r\n",
        "  print('hid ', hid)\r\n",
        "  \r\n",
        "\r\n",
        "  out = mymodel(obs)\r\n",
        "  print(out)\r\n",
        "\r\n",
        "  break\r\n",
        "\r\n",
        "\r\n"
      ],
      "execution_count": 17,
      "outputs": [
        {
          "output_type": "stream",
          "text": [
            "len(ctfile) 2\n",
            "nucleotides ['U', 'U', 'A', 'G', 'G', 'C', 'G', 'G', 'C', 'C', 'A', 'C', 'A', 'G', 'C', 'G', 'G', 'U', 'G', 'G', 'G', 'G', 'U', 'U', 'G', 'C', 'C', 'U', 'C', 'C', 'C', 'G', 'U', 'A', 'C', 'C', 'C', 'A', 'U', 'C', 'C', 'C', 'G', 'A', 'A', 'C', 'A', 'C', 'G', 'G', 'A', 'A', 'G', 'A', 'U', 'A', 'A', 'G', 'C', 'C', 'C', 'A', 'C', 'C', 'A', 'G', 'C', 'G', 'U', 'U', 'C', 'C', 'G', 'G', 'G', 'G', 'A', 'G', 'U', 'A', 'C', 'U', 'G', 'G', 'A', 'G', 'U', 'G', 'C', 'G', 'C', 'G', 'A', 'G', 'C', 'C', 'U', 'C', 'U', 'G', 'G', 'G', 'A', 'A', 'A', 'C', 'C', 'C', 'G', 'G', 'U', 'U', 'C', 'G', 'C', 'C', 'G', 'C', 'C', 'A', 'C', 'C']\n",
            "hidden states [0, 0, 0, 1, 1, 1, 1, 1, 1, 0, 0, 0, 0, 1, 1, 1, 1, 1, 1, 1, 1, 0, 0, 0, 0, 0, 1, 1, 1, 1, 1, 1, 1, 0, 0, 0, 0, 0, 0, 0, 0, 0, 0, 0, 0, 0, 1, 1, 1, 1, 0, 0, 1, 1, 1, 0, 0, 0, 1, 1, 1, 1, 1, 1, 0, 1, 1, 0, 1, 1, 1, 1, 1, 1, 1, 0, 0, 0, 1, 1, 1, 1, 1, 1, 1, 1, 0, 1, 1, 0, 0, 0, 0, 1, 1, 1, 1, 1, 1, 1, 1, 1, 1, 0, 0, 1, 1, 1, 1, 1, 1, 1, 0, 1, 1, 1, 1, 1, 1, 0, 0, 0]\n",
            "obs  [3, 3, 0, 2, 2, 1, 2, 2, 1, 1, 0, 1, 0, 2, 1, 2, 2, 3, 2, 2, 2, 2, 3, 3, 2, 1, 1, 3, 1, 1, 1, 2, 3, 0, 1, 1, 1, 0, 3, 1, 1, 1, 2, 0, 0, 1, 0, 1, 2, 2, 0, 0, 2, 0, 3, 0, 0, 2, 1, 1, 1, 0, 1, 1, 0, 2, 1, 2, 3, 3, 1, 1, 2, 2, 2, 2, 0, 2, 3, 0, 1, 3, 2, 2, 0, 2, 3, 2, 1, 2, 1, 2, 0, 2, 1, 1, 3, 1, 3, 2, 2, 2, 0, 0, 0, 1, 1, 1, 2, 2, 3, 3, 1, 2, 1, 1, 2, 1, 1, 0, 1, 1]\n",
            "hid  [0, 0, 0, 1, 1, 1, 1, 1, 1, 0, 0, 0, 0, 1, 1, 1, 1, 1, 1, 1, 1, 0, 0, 0, 0, 0, 1, 1, 1, 1, 1, 1, 1, 0, 0, 0, 0, 0, 0, 0, 0, 0, 0, 0, 0, 0, 1, 1, 1, 1, 0, 0, 1, 1, 1, 0, 0, 0, 1, 1, 1, 1, 1, 1, 0, 1, 1, 0, 1, 1, 1, 1, 1, 1, 1, 0, 0, 0, 1, 1, 1, 1, 1, 1, 1, 1, 0, 1, 1, 0, 0, 0, 0, 1, 1, 1, 1, 1, 1, 1, 1, 1, 1, 0, 0, 1, 1, 1, 1, 1, 1, 1, 0, 1, 1, 1, 1, 1, 1, 0, 0, 0]\n",
            "[0 1 0 1 0 1 0 1 0 1 0 1 0 1 0 1 0 1 0 1 0 1 0 1 0 1 0 1 0 1 0 1 0 1 0 1 0\n",
            " 1 0 1 0 1 0 1 0 1 0 1 0 1 0 1 0 1 0 1 0 1 0 1 0 1 0 1 0 1 0 1 0 1 0 1 0 1\n",
            " 0 1 0 1 0 1 0 1 0 1 0 1 0 1 0 1 0 1 0 1 0 1 0 1 0 1 0 1 0 1 0 1 0 1 0 1 0\n",
            " 1 0 1 0 1 0 1 0 1 0 0]\n"
          ],
          "name": "stdout"
        }
      ]
    },
    {
      "cell_type": "code",
      "metadata": {
        "id": "JKtCiwW3Zmqe"
      },
      "source": [
        ""
      ],
      "execution_count": null,
      "outputs": []
    },
    {
      "cell_type": "code",
      "metadata": {
        "id": "Sm5Xk9aBZm29"
      },
      "source": [
        ""
      ],
      "execution_count": null,
      "outputs": []
    },
    {
      "cell_type": "code",
      "metadata": {
        "id": "Tqil7q0VZm-M"
      },
      "source": [
        ""
      ],
      "execution_count": null,
      "outputs": []
    },
    {
      "cell_type": "code",
      "metadata": {
        "id": "AUiigY03ZnEQ"
      },
      "source": [
        ""
      ],
      "execution_count": null,
      "outputs": []
    },
    {
      "cell_type": "code",
      "metadata": {
        "id": "VkCbtEgnZnQv"
      },
      "source": [
        ""
      ],
      "execution_count": null,
      "outputs": []
    },
    {
      "cell_type": "code",
      "metadata": {
        "id": "6ABTWpyRZnV3"
      },
      "source": [
        ""
      ],
      "execution_count": null,
      "outputs": []
    },
    {
      "cell_type": "code",
      "metadata": {
        "id": "gEIqmWUdZnbn"
      },
      "source": [
        ""
      ],
      "execution_count": null,
      "outputs": []
    },
    {
      "cell_type": "code",
      "metadata": {
        "id": "4UVT-yaUZnf6"
      },
      "source": [
        ""
      ],
      "execution_count": null,
      "outputs": []
    },
    {
      "cell_type": "code",
      "metadata": {
        "id": "olfv_XYzZnjb"
      },
      "source": [
        ""
      ],
      "execution_count": null,
      "outputs": []
    },
    {
      "cell_type": "code",
      "metadata": {
        "id": "h5Ee9-byZnmj"
      },
      "source": [
        ""
      ],
      "execution_count": null,
      "outputs": []
    },
    {
      "cell_type": "code",
      "metadata": {
        "id": "aTRrfrUpZnpL"
      },
      "source": [
        ""
      ],
      "execution_count": null,
      "outputs": []
    },
    {
      "cell_type": "code",
      "metadata": {
        "colab": {
          "base_uri": "https://localhost:8080/"
        },
        "id": "Rk_zyjJLMqzM",
        "outputId": "7f439ec0-6572-4b0e-96c3-d2d37e980469"
      },
      "source": [
        "'''tfd = tfp.distributions\r\n",
        "\r\n",
        "# A simple weather model.\r\n",
        "\r\n",
        "# Represent a cold day with 0 and a hot day with 1.\r\n",
        "# Suppose the first day of a sequence has a 0.8 chance of being cold.\r\n",
        "\r\n",
        "initial_distribution = tfd.Categorical(probs=[0.8, 0.2])\r\n",
        "\r\n",
        "# Suppose a cold day has a 30% chance of being followed by a hot day\r\n",
        "# and a hot day has a 20% chance of being followed by a cold day.\r\n",
        "\r\n",
        "transition_distribution = tfd.Categorical(probs=[[0.5, 0.5],\r\n",
        "                                                 [0.51, 0.49]])\r\n",
        "\r\n",
        "# Suppose additionally that on each day the temperature is\r\n",
        "# normally distributed with mean and standard deviation 0 and 5 on\r\n",
        "# a cold day and mean and standard deviation 15 and 10 on a hot day.\r\n",
        "\r\n",
        "observation_distribution = tfd.Categorical(probs=[[0.25, 0.25, 0.25, 0.25],\r\n",
        "                                                  [0.25, 0.25, 0.25, 0.25]])\r\n",
        "\r\n",
        "# This gives the hidden Markov model:\r\n",
        "\r\n",
        "model = tfd.HiddenMarkovModel(\r\n",
        "    initial_distribution=initial_distribution,\r\n",
        "    transition_distribution=transition_distribution,\r\n",
        "    observation_distribution=observation_distribution,\r\n",
        "    num_steps=7)\r\n",
        "\r\n",
        "# Suppose we observe gradually rising temperatures over a week:\r\n",
        "temps = [0, 1, 2, 3, 0, 1, 2]\r\n",
        "\r\n",
        "# We can now compute the most probable sequence of hidden states:\r\n",
        "\r\n",
        "model.posterior_mode(temps)\r\n",
        "\r\n",
        "# The result is [0 0 0 0 0 1 1] telling us that the transition\r\n",
        "# from \"cold\" to \"hot\" most likely happened between the\r\n",
        "# 5th and 6th days.'''\r\n"
      ],
      "execution_count": null,
      "outputs": [
        {
          "output_type": "execute_result",
          "data": {
            "text/plain": [
              "<tf.Tensor: shape=(7,), dtype=int64, numpy=array([0, 1, 0, 1, 0, 1, 0])>"
            ]
          },
          "metadata": {
            "tags": []
          },
          "execution_count": 6
        }
      ]
    },
    {
      "cell_type": "code",
      "metadata": {
        "id": "RIlpzHwDRZnH"
      },
      "source": [
        ""
      ],
      "execution_count": null,
      "outputs": []
    }
  ]
}